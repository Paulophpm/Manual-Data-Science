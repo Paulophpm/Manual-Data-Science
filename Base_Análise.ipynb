{
 "cells": [
  {
   "cell_type": "code",
   "execution_count": 5,
   "metadata": {},
   "outputs": [],
   "source": [
    "# importação dos Pacotes\n",
    "import pandas as pd\n",
    "import  numpy as np\n",
    "import matplotlib.pyplot as plt\n",
    "from matplotlib import rcParams"
   ]
  },
  {
   "cell_type": "code",
   "execution_count": null,
   "metadata": {},
   "outputs": [],
   "source": [
    "# configurando as impressões do Numpy\n",
    "np\n",
    "\n",
    "# configurando as impressões do Pandas\n",
    "pd"
   ]
  },
  {
   "cell_type": "code",
   "execution_count": null,
   "metadata": {},
   "outputs": [],
   "source": [
    "# configurando os plots do MatplotLib\n",
    "rcParams['figure.figsize'] = 12, 4 # tamanho da grade da figura a ser criada\n",
    "rcParams['lines.linewidth'] = 3 # quantidade de linhas\n",
    "rcParams['xtick.labelsize'] = 'x-large' # largura do eixo x é o total da tela disponível\n",
    "rcParams['ytick.labelsize'] = 'x-large' # largura do exio y é o total da tela disponível"
   ]
  },
  {
   "cell_type": "code",
   "execution_count": null,
   "metadata": {},
   "outputs": [],
   "source": [
    "# configurando os plots do Seasborn"
   ]
  }
 ],
 "metadata": {
  "kernelspec": {
   "display_name": "Python 3",
   "language": "python",
   "name": "python3"
  },
  "language_info": {
   "codemirror_mode": {
    "name": "ipython",
    "version": 3
   },
   "file_extension": ".py",
   "mimetype": "text/x-python",
   "name": "python",
   "nbconvert_exporter": "python",
   "pygments_lexer": "ipython3",
   "version": "3.10.4"
  },
  "orig_nbformat": 4
 },
 "nbformat": 4,
 "nbformat_minor": 2
}
